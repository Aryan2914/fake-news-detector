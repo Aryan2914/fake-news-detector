import pandas as pd
from sklearn.feature_extraction.text import TfidfVectorizer, CountVectorizer

# Load the cleaned dataset
df = pd.read_csv('data/fake_news_cleaned.csv')

# Optional: verify structure
df.head()
# Initialize TF-IDF Vectorizer
tfidf = TfidfVectorizer(max_features=5000)  # You can increase/decrease max_features

# Fit and transform cleaned text
X_tfidf = tfidf.fit_transform(df['cleaned_text'])

# Convert to DataFrame for inspection (optional)
tfidf_df = pd.DataFrame(X_tfidf.toarray(), columns=tfidf.get_feature_names_out())

# Show sample features
tfidf_df.head()
# Optional: Try CountVectorizer for comparison
cv = CountVectorizer(max_features=5000)
X_cv = cv.fit_transform(df['cleaned_text'])

# Convert to DataFrame (optional)
cv_df = pd.DataFrame(X_cv.toarray(), columns=cv.get_feature_names_out())
cv_df.head()
# Extract labels (ensure your label column is named 'label')
y = df['label']

# Save features and labels to disk for model training
import pickle

with open('data/X_tfidf.pkl', 'wb') as f:
    pickle.dump(X_tfidf, f)

with open('data/y.pkl', 'wb') as f:
    pickle.dump(y, f)

print("✅ TF-IDF features and labels saved.")
