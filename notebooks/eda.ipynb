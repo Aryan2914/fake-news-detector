import pandas as pd
import matplotlib.pyplot as plt
import seaborn as sns
from wordcloud import WordCloud

# Settings
sns.set(style="whitegrid")
plt.rcParams["figure.figsize"] = (10, 6)

# Load cleaned data
df = pd.read_csv('data/fake_news_cleaned.csv')
df.head()
# Basic info
df.info()

# Class distribution
if 'label' in df.columns:
    print("Label distribution:")
    print(df['label'].value_counts())
    sns.countplot(x='label', data=df)
    plt.title('Real vs Fake News Count')
    plt.show()
else:
    print("No 'label' column found.")
# Check for missing values
missing = df.isnull().sum()
print(missing[missing > 0])
# Add text length column
df['text_length'] = df['cleaned_text'].apply(len)

# Visualize text lengths
sns.histplot(data=df, x='text_length', hue='label', bins=50, kde=True)
plt.title('Distribution of Text Length by Label')
plt.xlabel('Text Length')
plt.ylabel('Frequency')
plt.show()
from collections import Counter
import nltk
from nltk.corpus import stopwords

nltk.download('stopwords')
stop_words = set(stopwords.words('english'))

def get_top_n_words(corpus, n=None):
    tokens = " ".join(corpus).split()
    filtered = [word for word in tokens if word.lower() not in stop_words]
    return Counter(filtered).most_common(n)

# Top 20 words for fake news
fake_words = get_top_n_words(df[df['label'] == 0]['cleaned_text'], 20)
real_words = get_top_n_words(df[df['label'] == 1]['cleaned_text'], 20)

# Plot
fake_df = pd.DataFrame(fake_words, columns=['word', 'count'])
real_df = pd.DataFrame(real_words, columns=['word', 'count'])

fig, axes = plt.subplots(1, 2, figsize=(15, 6))
sns.barplot(x='count', y='word', data=fake_df, ax=axes[0])
axes[0].set_title('Top Words in Fake News')

sns.barplot(x='count', y='word', data=real_df, ax=axes[1])
axes[1].set_title('Top Words in Real News')
plt.tight_layout()
plt.show()
# Word clouds
fake_text = " ".join(df[df['label'] == 0]['cleaned_text'])
real_text = " ".join(df[df['label'] == 1]['cleaned_text'])

fake_wc = WordCloud(width=800, height=400, background_color='black').generate(fake_text)
real_wc = WordCloud(width=800, height=400, background_color='white').generate(real_text)

plt.figure(figsize=(16, 7))
plt.subplot(1, 2, 1)
plt.imshow(fake_wc, interpolation='bilinear')
plt.axis('off')
plt.title('Fake News Word Cloud')

plt.subplot(1, 2, 2)
plt.imshow(real_wc, interpolation='bilinear')
plt.axis('off')
plt.title('Real News Word Cloud')

plt.show()
