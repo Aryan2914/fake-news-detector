# Import necessary libraries
import pandas as pd
from src.preprocess import clean_text

# Load the dataset
df = pd.read_csv('data/fake_news_dataset.csv')  # Update file path if necessary

# Check the first few rows of the dataset
df.head()

# Preprocess the text column (replace 'text_column' with actual column name)
df['cleaned_text'] = df['text_column'].apply(clean_text)

# View cleaned data
df[['text_column', 'cleaned_text']].head()
