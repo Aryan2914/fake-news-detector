# Import necessary libraries
import pandas as pd
import zipfile
import os

# Import your custom text cleaning function
from src.preprocess import clean_text

# --- Step 1: Unzip the dataset ---
zip_path = 'data/fake.csv.zip'
extract_path = 'data/'

# Check if unzipped file already exists to avoid re-extraction
if not os.path.exists(os.path.join(extract_path, 'fake.csv')):
    with zipfile.ZipFile(zip_path, 'r') as zip_ref:
        zip_ref.extractall(extract_path)
    print("✅ Unzipped fake.csv.zip successfully.")
else:
    print("📁 fake.csv already extracted.")

# --- Step 2: Load the dataset ---
csv_path = os.path.join(extract_path, 'fake.csv')
df = pd.read_csv(csv_path)

# Show the first few rows
print("📰 Raw dataset sample:")
display(df.head())

# --- Step 3: Preprocess the text column ---
# Replace 'text' with the actual name of the column containing news content
text_column = 'text'  # Change if your column has a different name

df['cleaned_text'] = df[text_column].apply(clean_text)

# --- Step 4: Display cleaned results ---
print("✅ Sample cleaned data:")
display(df[[text_column, 'cleaned_text']].head())
