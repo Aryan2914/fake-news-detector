import pickle

# Load model and vectorizer
with open('models/fake_news_model.pkl', 'rb') as f:
    model = pickle.load(f)

with open('models/tfidf_vectorizer.pkl', 'rb') as f:
    vectorizer = pickle.load(f)

# Prediction function
def predict_news(text):
    # Preprocess the input text
    # NOTE: You should import/use the same clean_text function used earlier
    from src.preprocess import clean_text
    cleaned = clean_text(text)

    # Transform using TF-IDF vectorizer
    vector = vectorizer.transform([cleaned])

    # Predict
    prediction = model.predict(vector)[0]

    label = 'Real' if prediction == 1 else 'Fake'
    return label

# Test the function
sample_text = "NASA announces successful moon landing mission with private company"
print("Prediction:", predict_news(sample_text))
